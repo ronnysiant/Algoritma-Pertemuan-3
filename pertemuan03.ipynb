{
 "cells": [
  {
   "cell_type": "code",
   "execution_count": 1,
   "metadata": {},
   "outputs": [
    {
     "name": "stdout",
     "output_type": "stream",
     "text": [
      "N= 5\n",
      "N= 6\n",
      "N= 2\n"
     ]
    }
   ],
   "source": [
    "N=5\n",
    "print(\"N=\",N)\n",
    "N+=1\n",
    "print(\"N=\",N)\n",
    "N-=4\n",
    "print(\"N=\",N)"
   ]
  },
  {
   "cell_type": "code",
   "execution_count": 1,
   "metadata": {},
   "outputs": [
    {
     "name": "stdout",
     "output_type": "stream",
     "text": [
      "0 1 2 3 4 5 6 7 8 9 \n",
      "1 2 3 4 5 6 7 8 9 \n",
      "1 3 5 7 9 \n",
      "10 9 8 7 6 5 4 3 2 \n"
     ]
    }
   ],
   "source": [
    "for i in range(10):\n",
    "    print(i,end=\" \")\n",
    "print()\n",
    "\n",
    "for i in range(1,10):\n",
    "    print(i,end=\" \")\n",
    "print()\n",
    "\n",
    "for i in range(1,10,2):\n",
    "    print(i,end=\" \")\n",
    "print()\n",
    "\n",
    "for i in range(10,1,-1):\n",
    "    print(i,end=\" \")\n",
    "print()"
   ]
  },
  {
   "cell_type": "code",
   "execution_count": 13,
   "metadata": {},
   "outputs": [
    {
     "name": "stdout",
     "output_type": "stream",
     "text": [
      "Banyaknya Suku =4\n",
      "for :\n",
      "1  + 2  + 3  + 4 = 10\n",
      "while :\n",
      "1  + 2  + 3  + 4 = 10\n"
     ]
    }
   ],
   "source": [
    "N=int(input(\"Banyaknya Suku =\"))\n",
    "total=0\n",
    "print(\"for :\")\n",
    "for i in range(1,N):\n",
    "    total+=i\n",
    "    print(i,\" + \",end=\"\")\n",
    "total+=N\n",
    "print(N,\"=\",total)\n",
    "\n",
    "print(\"while :\")\n",
    "i=1;total=0\n",
    "while i<N:\n",
    "    total+=i\n",
    "    print(i,\" + \",end=\"\")\n",
    "    i+=1\n",
    "total+=i\n",
    "print(i,\"=\",total)"
   ]
  },
  {
   "cell_type": "code",
   "execution_count": null,
   "metadata": {},
   "outputs": [],
   "source": [
    "print(\"for:\")\n",
    "for i in range(1,11):\n",
    "    if i<10:\n",
    "        print(i,\",\",end=\"\")\n",
    "    else:\n",
    "        print(i,\".\")\n",
    "print(\"\\nWhile:\")\n",
    "i=1\n",
    "while i<=10:\n",
    "    print(i,end=\"  \")\n",
    "    i+=1\n",
    "    \n",
    "print()\n",
    "    \n",
    "    "
   ]
  },
  {
   "cell_type": "code",
   "execution_count": null,
   "metadata": {},
   "outputs": [],
   "source": [
    "N=int(input(\"Banyaknya suku = \"))\n",
    "for i in range(1,N):\n",
    "    print(i,\",\",end=\"\")\n",
    "print(N,\".\")"
   ]
  },
  {
   "cell_type": "code",
   "execution_count": 12,
   "metadata": {},
   "outputs": [
    {
     "name": "stdout",
     "output_type": "stream",
     "text": [
      "Banyaknya suku = 7\n",
      "1  adalah bilangan ganjil\n",
      "2  adalah bilangan genap\n",
      "3  adalah bilangan ganjil\n",
      "4  adalah bilangan genap\n",
      "5  adalah bilangan ganjil\n",
      "6  adalah bilangan genap\n",
      "7  adalah bilangan ganji\n"
     ]
    }
   ],
   "source": [
    "N=int(input(\"Banyaknya suku = \"))\n",
    "for i in range(1,N,2):\n",
    "    print(i,\" adalah bilangan ganjil\")\n",
    "    print(i+1,\" adalah bilangan genap\")\n",
    "\n",
    "if N%2 !=0:\n",
    "    print(N,\" adalah bilangan ganji\")"
   ]
  },
  {
   "cell_type": "code",
   "execution_count": 2,
   "metadata": {},
   "outputs": [
    {
     "name": "stdout",
     "output_type": "stream",
     "text": [
      "for :\n",
      "1 + 1 = 2\n",
      "1 + 2 = 3\n",
      "1 + 3 = 4\n",
      "2 + 1 = 3\n",
      "2 + 2 = 4\n",
      "2 + 3 = 5\n",
      "\n",
      "Wile :\n",
      "1 + 1 = 2\n",
      "1 + 2 = 3\n",
      "1 + 3 = 4\n",
      "2 + 1 = 3\n",
      "2 + 2 = 4\n",
      "2 + 3 = 5\n"
     ]
    }
   ],
   "source": [
    "N=2;M=3\n",
    "print(\"for :\")\n",
    "for i in range(1,N+1):\n",
    "    for j in range(1,M+1):\n",
    "        print(i,\"+\",j,\"=\",i+j)\n",
    "print(\"\\nWile :\")\n",
    "i=1\n",
    "while i<=N:\n",
    "    j=1\n",
    "    while j<=M:\n",
    "        print(i,\"+\",j,\"=\",i+j)\n",
    "        j+=1\n",
    "        \n",
    "    i+=1\n"
   ]
  },
  {
   "cell_type": "code",
   "execution_count": 5,
   "metadata": {},
   "outputs": [
    {
     "name": "stdout",
     "output_type": "stream",
     "text": [
      "for :\n",
      "1 * 5 = 5\n",
      "2 * 5 = 10\n",
      "3 * 5 = 15\n",
      "4 * 5 = 20\n",
      "5 * 5 = 25\n",
      "6 * 5 = 30\n",
      "7 * 5 = 35\n",
      "8 * 5 = 40\n",
      "9 * 5 = 45\n",
      "10 * 5 = 50\n",
      "\n",
      "1 * 6 = 6\n",
      "2 * 6 = 12\n",
      "3 * 6 = 18\n",
      "4 * 6 = 24\n",
      "5 * 6 = 30\n",
      "6 * 6 = 36\n",
      "7 * 6 = 42\n",
      "8 * 6 = 48\n",
      "9 * 6 = 54\n",
      "10 * 6 = 60\n",
      "\n",
      "1 * 7 = 7\n",
      "2 * 7 = 14\n",
      "3 * 7 = 21\n",
      "4 * 7 = 28\n",
      "5 * 7 = 35\n",
      "6 * 7 = 42\n",
      "7 * 7 = 49\n",
      "8 * 7 = 56\n",
      "9 * 7 = 63\n",
      "10 * 7 = 70\n",
      "\n",
      "\n",
      "Wile :\n",
      "1 * 5 = 5\n",
      "2 * 5 = 10\n",
      "3 * 5 = 15\n",
      "4 * 5 = 20\n",
      "5 * 5 = 25\n",
      "6 * 5 = 30\n",
      "7 * 5 = 35\n",
      "8 * 5 = 40\n",
      "9 * 5 = 45\n",
      "10 * 5 = 50\n",
      "\n",
      "1 * 6 = 6\n",
      "2 * 6 = 12\n",
      "3 * 6 = 18\n",
      "4 * 6 = 24\n",
      "5 * 6 = 30\n",
      "6 * 6 = 36\n",
      "7 * 6 = 42\n",
      "8 * 6 = 48\n",
      "9 * 6 = 54\n",
      "10 * 6 = 60\n",
      "\n",
      "1 * 7 = 7\n",
      "2 * 7 = 14\n",
      "3 * 7 = 21\n",
      "4 * 7 = 28\n",
      "5 * 7 = 35\n",
      "6 * 7 = 42\n",
      "7 * 7 = 49\n",
      "8 * 7 = 56\n",
      "9 * 7 = 63\n",
      "10 * 7 = 70\n",
      "\n"
     ]
    }
   ],
   "source": [
    "N1=5;N2=7;M1=1;M2=10\n",
    "print(\"for :\")\n",
    "for i in range(N1,N2+1):\n",
    "    for j in range(M1,M2+1):\n",
    "        print(j,\"*\",i,\"=\",i*j)\n",
    "    print()\n",
    "print(\"\\nWile :\")\n",
    "i=N1\n",
    "while i<=N2:\n",
    "    j=M1\n",
    "    while j<=M2:\n",
    "        print(j,\"*\",i,\"=\",i*j)\n",
    "        j+=1\n",
    "    print()    \n",
    "    i+=1\n"
   ]
  },
  {
   "cell_type": "code",
   "execution_count": 8,
   "metadata": {},
   "outputs": [
    {
     "name": "stdout",
     "output_type": "stream",
     "text": [
      "Banyaknya data =0\n"
     ]
    }
   ],
   "source": [
    "N=int(input(\"Banyaknya data =\"))\n",
    "if N>0:\n",
    "    B=-999\n",
    "    for i in range(N):    \n",
    "        B1=int(input(\"Data ke -\"+str(i+1)+\"=\"))\n",
    "        if B<B1:\n",
    "            B=B1\n",
    "\n",
    "    print(\"Bilangan Terbesar =\",B)"
   ]
  },
  {
   "cell_type": "code",
   "execution_count": 7,
   "metadata": {},
   "outputs": [
    {
     "name": "stdout",
     "output_type": "stream",
     "text": [
      "Banyaknya data =5\n",
      "Data ke -1=109\n",
      "Data ke -2=56\n",
      "Data ke -3=234\n",
      "Data ke -4=12\n",
      "Data ke -5=19\n",
      "Bilangan Terbesar = 234\n"
     ]
    }
   ],
   "source": [
    "N=int(input(\"Banyaknya data =\"))\n",
    "if N>0:\n",
    "    B1=int(input(\"Data ke -\"+str(1)+\"=\"))\n",
    "    B=B1\n",
    "    for i in range(1,N):    \n",
    "        B1=int(input(\"Data ke -\"+str(i+1)+\"=\"))\n",
    "        if B<B1:\n",
    "            B=B1\n",
    "\n",
    "    print(\"Bilangan Terbesar =\",B)"
   ]
  },
  {
   "cell_type": "code",
   "execution_count": null,
   "metadata": {},
   "outputs": [],
   "source": [
    "N=int(input(\"Banyaknya Data =\"))\n",
    "if N>0:\n",
    "    i=1\n",
    "    x=int(input(\"Data ke -\"+str(i)+\"=\"))\n",
    "    max=x;min=x;total=x\n",
    "    for i in range(2,N+1):\n",
    "        x=int(input(\"Data ke -\"+str(i)+\"=\"))\n",
    "        total+=x\n",
    "        if max<x:\n",
    "            max=x\n",
    "        elif min>x:\n",
    "            min=x\n",
    "    distance=max-min\n",
    "    rata2=total/N\n",
    "    print(\"Bilangan terbesar = \",max)\n",
    "    print(\"Bilangan terkecil = \",min)\n",
    "    print(\"Range             = \",distance)\n",
    "    print(\"Total             = \",total)\n",
    "    print(\"Rata rata         = \",rata2)\n",
    "    "
   ]
  },
  {
   "cell_type": "code",
   "execution_count": 15,
   "metadata": {},
   "outputs": [
    {
     "name": "stdout",
     "output_type": "stream",
     "text": [
      "Data masukan tidak boleh urut:\n",
      "Banyaknya Data =5\n",
      "Data ke -1=3\n",
      "Data ke -2=2\n",
      "Data ke -3=7\n",
      "Data ke -4=1\n",
      "Data ke -5=9\n",
      "Bilangan terbesar =  9\n",
      "Bilangan terkecil =  1\n",
      "Range             =  8\n",
      "Total             =  22\n",
      "Rata rata         =  4.4\n"
     ]
    }
   ],
   "source": [
    "# kondisi data dalam keadaan tidak terurut\n",
    "print(\"Data masukan tidak boleh urut:\")\n",
    "N=int(input(\"Banyaknya Data =\"))\n",
    "if N>0:\n",
    "    i=1 ;j=0;k=0   \n",
    "    max=-9999;min=9999;total=0\n",
    "    while i<=N:\n",
    "        x=int(input(\"Data ke -\"+str(i)+\"=\"))\n",
    "        total+=x\n",
    "        if max<x:\n",
    "            max=x\n",
    "            j+=1\n",
    "        elif min>x:\n",
    "            min=x\n",
    "            k+=1\n",
    "        i+=1\n",
    "    if j*k !=0:    \n",
    "        distance=max-min\n",
    "        rata2=total/N\n",
    "        print(\"Bilangan terbesar = \",max)\n",
    "        print(\"Bilangan terkecil = \",min)\n",
    "        print(\"Range             = \",distance)\n",
    "        print(\"Total             = \",total)\n",
    "        print(\"Rata rata         = \",rata2)\n",
    "    else:\n",
    "        print(\"kondisi data terurut\")\n",
    "    "
   ]
  },
  {
   "cell_type": "code",
   "execution_count": 8,
   "metadata": {},
   "outputs": [
    {
     "name": "stdout",
     "output_type": "stream",
     "text": [
      "Data masukan tidak boleh urut:\n",
      "Data ke -1=5\n",
      "Data ke -1=4\n",
      "Data ke -2=8\n",
      "Data ke -2=1\n",
      "Data ke -3=9999\n",
      "Bilangan terbesar =  8\n",
      "Bilangan terkecil =  1\n",
      "Range             =  7\n",
      "Total             =  18\n",
      "Rata rata         =  6.0\n"
     ]
    }
   ],
   "source": [
    "# kondisi data dalam keadaan tidak terurut\n",
    "print(\"Data masukan tidak boleh urut:\")\n",
    "\n",
    "i=0 ;j=0;k=0   \n",
    "max=-9999;min=9999;total=0\n",
    "x=int(input(\"Data ke -\"+str(i+1)+\"=\"))\n",
    "while x!=9999:        \n",
    "    total+=x\n",
    "    if max<x:\n",
    "        max=x\n",
    "        j+=1\n",
    "    elif min>x:\n",
    "        min=x\n",
    "        k+=1\n",
    "        i+=1\n",
    "    x=int(input(\"Data ke -\"+str(i+1)+\"=\"))\n",
    "if i>0:    \n",
    "    if j*k !=0:    \n",
    "        distance=max-min\n",
    "        rata2=total/N\n",
    "        print(\"Bilangan terbesar = \",max)\n",
    "        print(\"Bilangan terkecil = \",min)\n",
    "        print(\"Range             = \",distance)\n",
    "        print(\"Total             = \",total)\n",
    "        print(\"Rata rata         = \",rata2)\n",
    "    else:\n",
    "        print(\"kondisi data terurut\")\n",
    "    "
   ]
  },
  {
   "cell_type": "code",
   "execution_count": null,
   "metadata": {},
   "outputs": [],
   "source": []
  }
 ],
 "metadata": {
  "kernelspec": {
   "display_name": "Python 3",
   "language": "python",
   "name": "python3"
  },
  "language_info": {
   "codemirror_mode": {
    "name": "ipython",
    "version": 3
   },
   "file_extension": ".py",
   "mimetype": "text/x-python",
   "name": "python",
   "nbconvert_exporter": "python",
   "pygments_lexer": "ipython3",
   "version": "3.7.3"
  }
 },
 "nbformat": 4,
 "nbformat_minor": 2
}
